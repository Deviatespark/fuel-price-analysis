{
 "cells": [
  {
   "cell_type": "code",
   "execution_count": 3,
   "id": "2dc36563-457b-48c8-b123-db3acad3fc3a",
   "metadata": {},
   "outputs": [
    {
     "name": "stdout",
     "output_type": "stream",
     "text": [
      "⚠️ Error: No se encontró el archivo 'gii32_act1_precios_carburantes_24.csv'.\n"
     ]
    }
   ],
   "source": [
    "import pandas as pd\n",
    "from autoviz.AutoViz_Class import AutoViz_Class  # Importación correcta\n",
    "\n",
    "def cargar_datos(archivo_csv):\n",
    "    \"\"\"Carga el archivo CSV y devuelve un DataFrame.\"\"\"\n",
    "    try:\n",
    "        df = pd.read_csv(archivo_csv, dtype=str)  # Cargar todo como string\n",
    "        return df\n",
    "    except FileNotFoundError:\n",
    "        print(f\"⚠️ Error: No se encontró el archivo '{archivo_csv}'.\")\n",
    "        return None\n",
    "\n",
    "def limpiar_precio(valor):\n",
    "    \"\"\"Convierte precios de '1,529' a 1.529 (float).\"\"\"\n",
    "    if isinstance(valor, str):\n",
    "        return float(valor.replace(\",\", \".\")) if valor.replace(\",\", \"\").replace(\".\", \"\").isdigit() else None\n",
    "    return None\n",
    "\n",
    "def preparar_datos(df, provincia_interes):\n",
    "    \"\"\"Filtra la provincia y limpia los datos.\"\"\"\n",
    "    if df is None or \"Provincia\" not in df.columns:\n",
    "        return None\n",
    "    \n",
    "    df_provincia = df[df[\"Provincia\"].str.upper() == provincia_interes].copy()\n",
    "    \n",
    "    if df_provincia.empty:\n",
    "        print(f\"⚠️ No hay datos para la provincia {provincia_interes}.\")\n",
    "        return None\n",
    "\n",
    "    # Convertir precios a formato numérico\n",
    "    columnas_precios = [\"Precio gasolina 95 E5\", \"Precio gasóleo A\"]\n",
    "    for col in columnas_precios:\n",
    "        if col in df_provincia.columns:\n",
    "            df_provincia[col] = df_provincia[col].apply(limpiar_precio)\n",
    "    \n",
    "    df_provincia.dropna(subset=columnas_precios, inplace=True)\n",
    "    \n",
    "    return df_provincia\n",
    "\n",
    "def visualizar_con_autoviz(archivo_csv):\n",
    "    \"\"\"Genera un informe automático de AutoViz.\"\"\"\n",
    "    AV = AutoViz_Class()  # Aquí está la corrección\n",
    "    report = AV.AutoViz(archivo_csv)\n",
    "    return report\n",
    "\n",
    "def main():\n",
    "    \"\"\"Función principal.\"\"\"\n",
    "    archivo_csv = \"../data/prix_carburants.csv\"\n",
    "    provincia_interes = \"MADRID\"\n",
    "\n",
    "    df = cargar_datos(archivo_csv)\n",
    "    df_provincia = preparar_datos(df, provincia_interes)\n",
    "    \n",
    "    if df_provincia is not None and not df_provincia.empty:\n",
    "        print(\"\\nGenerando informe automático con AutoViz...\\n\")\n",
    "        visualizar_con_autoviz(archivo_csv)\n",
    "\n",
    "# Ejecutar el script\n",
    "if __name__ == \"__main__\":\n",
    "    main()\n"
   ]
  },
  {
   "cell_type": "code",
   "execution_count": null,
   "id": "30e61521-086a-45cc-b336-017660092d8e",
   "metadata": {},
   "outputs": [],
   "source": []
  }
 ],
 "metadata": {
  "kernelspec": {
   "display_name": "Python [conda env:gasolineras]",
   "language": "python",
   "name": "conda-env-gasolineras-py"
  },
  "language_info": {
   "codemirror_mode": {
    "name": "ipython",
    "version": 3
   },
   "file_extension": ".py",
   "mimetype": "text/x-python",
   "name": "python",
   "nbconvert_exporter": "python",
   "pygments_lexer": "ipython3",
   "version": "3.12.9"
  }
 },
 "nbformat": 4,
 "nbformat_minor": 5
}
